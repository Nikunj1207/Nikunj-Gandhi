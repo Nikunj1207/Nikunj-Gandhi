{
  "metadata": {
    "kernelspec": {
      "name": "python",
      "display_name": "Pyolite",
      "language": "python"
    },
    "language_info": {
      "codemirror_mode": {
        "name": "python",
        "version": 3
      },
      "file_extension": ".py",
      "mimetype": "text/x-python",
      "name": "python",
      "nbconvert_exporter": "python",
      "pygments_lexer": "ipython3",
      "version": "3.8"
    }
  },
  "nbformat_minor": 4,
  "nbformat": 4,
  "cells": [
    {
      "cell_type": "markdown",
      "source": "<center>\n    <img src=\"https://s3-api.us-geo.objectstorage.softlayer.net/cf-courses-data/CognitiveClass/Logos/organization_logo/organization_logo.png\" width=\"300\" alt=\"cognitiveclass.ai logo\"  />\n</center>\n",
      "metadata": {}
    },
    {
      "cell_type": "markdown",
      "source": "#### Add your code below following the instructions given in the course\n",
      "metadata": {}
    },
    {
      "cell_type": "markdown",
      "source": " # \"My Jupyter Notebook on IBM Watson Studio\"",
      "metadata": {}
    },
    {
      "cell_type": "markdown",
      "source": "**Nikunj**\n---\nJr.Engineer",
      "metadata": {}
    },
    {
      "cell_type": "markdown",
      "source": "_I am ineterested in data science because of the miracles it can create with the given set of data. It is the need of an hour. Many companies are increasing their focus on data science to take some of the critical descisions in the company._",
      "metadata": {}
    },
    {
      "cell_type": "markdown",
      "source": "### The below code multiplies the number three(3) with number five(5)",
      "metadata": {}
    },
    {
      "cell_type": "code",
      "source": "5 * 3",
      "metadata": {
        "trusted": true
      },
      "execution_count": 12,
      "outputs": [
        {
          "execution_count": 12,
          "output_type": "execute_result",
          "data": {
            "text/plain": "15"
          },
          "metadata": {}
        }
      ]
    },
    {
      "cell_type": "markdown",
      "source": "[data science link](https://www.google.com/search?q=data+science+meaning&sxsrf=ALiCzsZCVDroDTO2udShAx7XgdbAkdwQrw%3A1656854989793&source=hp&ei=zZnBYpa1LpS02roPrYGC4A8&iflsig=AJiK0e8AAAAAYsGn3QqfvstY2zDo3FiB2Fs0_9tfLewr&oq=data+&gs_lcp=Cgdnd3Mtd2l6EAEYATIECCMQJzIECCMQJzILCAAQgAQQsQMQgwEyCwgAEIAEELEDEIMBMggIABCABBCxAzIFCAAQgAQyCAgAEIAEELEDMgUIABCABDILCAAQgAQQsQMQgwEyDggAEIAEELEDEIMBEMkDOgcILhDqAhAnOgcIIxDqAhAnOg4ILhCABBCxAxDHARDRAzoICC4QsQMQgwE6BQguEIAEOggILhCABBDUAjoICAAQsQMQgwE6CwguEIAEELEDEIMBOggILhCABBCxA1CjB1jWDGD1JGgBcAB4AIAB-QKIAfQLkgEFMi0zLjKYAQCgAQGwAQo&sclient=gws-wiz)",
      "metadata": {}
    },
    {
      "cell_type": "markdown",
      "source": "~~descision science~~",
      "metadata": {}
    },
    {
      "cell_type": "markdown",
      "source": "Nikunj Gandhi is an `Electrical Engineer`.",
      "metadata": {}
    },
    {
      "cell_type": "markdown",
      "source": "|Sr. No. |     Name            | Age    |\n|--------|---------------------|--------|\n|1       |   Nikunj Gandhi     |   30   |\n|2       |   Sipra Gandhi      |   30   |",
      "metadata": {}
    },
    {
      "cell_type": "code",
      "source": "",
      "metadata": {},
      "execution_count": null,
      "outputs": []
    }
  ]
}